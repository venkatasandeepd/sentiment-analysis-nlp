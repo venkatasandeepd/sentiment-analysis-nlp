{
 "cells": [
  {
   "cell_type": "markdown",
   "metadata": {},
   "source": [
    "# Test Your Model"
   ]
  },
  {
   "cell_type": "code",
   "execution_count": 1,
   "metadata": {},
   "outputs": [],
   "source": [
    "import pickle\n",
    "import pandas as pd\n",
    "import re, string, nltk\n",
    "from nltk.corpus import stopwords\n",
    "from nltk.stem import WordNetLemmatizer\n",
    "from sklearn.metrics import confusion_matrix\n",
    "from sklearn.metrics import classification_report \n",
    "\n",
    "def test_trained_model(model_path, test_text):\n",
    "    saved_model_dic = pickle.load(open(model_path,\"rb\"))\n",
    "    saved_clf = saved_model_dic['model']\n",
    "    saved_vectorizer = saved_model_dic['vectorizer']\n",
    "    print(len(saved_vectorizer.vocabulary))\n",
    "    new_test_vecs = saved_vectorizer.fit_transform(test_text)\n",
    "    return saved_clf.predict(new_test_vecs)"
   ]
  },
  {
   "cell_type": "code",
   "execution_count": 2,
   "metadata": {},
   "outputs": [],
   "source": [
    "def text_preprocessor(data):\n",
    "    \n",
    "    data = [re.sub(re.compile('<.*?>|&([a-z0-9]+|#[0-9]{1,6}|#x[0-9a-f]{1,6});'), '', line) for line in data]\n",
    "\n",
    "    # strip whitespace and converting to lower case\n",
    "    lower_data = [line.strip().lower() for line in data]\n",
    "    \n",
    "    # Replace apostrophes with words\n",
    "    processed_data = []\n",
    "    for line in lower_data:\n",
    "        line = line.replace(\"-\", \" \")\n",
    "        ref_words = [negate_handle[word] if word in negate_handle else word for word in line.split()]\n",
    "        processed_data.append(\" \".join(ref_words))\n",
    "        \n",
    "    #remove punctuation\n",
    "    processed_data = [line.translate(str.maketrans('', '', string.punctuation)) for line in processed_data] \n",
    "    \n",
    "    # removing stopwords\n",
    "    stops = set(stopwords.words(\"english\"))\n",
    "    processed_data = [\" \".join([word for word in line.split() if word not in stops]) for line in processed_data]\n",
    "    \n",
    "    return processed_data\n",
    "\n",
    "def stem_lemmatize(data):\n",
    "    # stemming\n",
    "    # stemmer= PorterStemmer()\n",
    "    # processed_data = [\" \".join([stemmer.stem(word) for word in line.split()]) for line in data]\n",
    "\n",
    "    # lemmatization\n",
    "    lemmatizer=WordNetLemmatizer()\n",
    "    processed_data = [\" \".join([lemmatizer.lemmatize(word) for word in line.split()]) for line in data]\n",
    "    \n",
    "    return processed_data"
   ]
  },
  {
   "cell_type": "code",
   "execution_count": 3,
   "metadata": {},
   "outputs": [
    {
     "name": "stdout",
     "output_type": "stream",
     "text": [
      "test data size 5000\n"
     ]
    }
   ],
   "source": [
    "# load sample test data\n",
    "\n",
    "test_data = pd.read_csv('coursework1_train.csv')\n",
    "if('Unnamed: 0' in test_data.columns):\n",
    "    del test_data['Unnamed: 0']\n",
    "    \n",
    "test_data['sentiment'] = test_data.sentiment.map(lambda x: int(1) if x =='pos' else int(0))\n",
    "\n",
    "# preprocessing unseen data\n",
    "with open(\"sample_trained_model.pickle\", \"rb\") as f:\n",
    "    saved_file_comp = pickle.load(f)\n",
    "    \n",
    "saved_clf = saved_file_comp['model']\n",
    "negate_handle = saved_file_comp[\"negate_handle\"]\n",
    "feature_names = saved_file_comp[\"feature_names\"]\n",
    "processed_data = text_preprocessor(test_data['text'].tolist())\n",
    "processed_data = stem_lemmatize(processed_data)\n",
    "test_data['text'] = processed_data\n",
    "    \n",
    "test_text = test_data['text'].tolist()[-5000:]\n",
    "test_labels = test_data['sentiment'].tolist()[-5000:]\n",
    "\n",
    "print('test data size', len(test_labels))"
   ]
  },
  {
   "cell_type": "code",
   "execution_count": 4,
   "metadata": {},
   "outputs": [
    {
     "name": "stdout",
     "output_type": "stream",
     "text": [
      "5000\n",
      "accuracy 0.9058\n",
      "[[2237  253]\n",
      " [ 218 2292]]\n",
      "              precision    recall  f1-score   support\n",
      "\n",
      "           0       0.91      0.90      0.90      2490\n",
      "           1       0.90      0.91      0.91      2510\n",
      "\n",
      "    accuracy                           0.91      5000\n",
      "   macro avg       0.91      0.91      0.91      5000\n",
      "weighted avg       0.91      0.91      0.91      5000\n",
      "\n"
     ]
    }
   ],
   "source": [
    "# test model\n",
    "from sklearn.metrics import accuracy_score\n",
    "new_test_pred = test_trained_model(\"sample_trained_model.pickle\", test_text)\n",
    "acc = accuracy_score(test_labels, new_test_pred)\n",
    "print('accuracy', acc)\n",
    "\n",
    "# confusion matrix\n",
    "print(confusion_matrix(test_labels, new_test_pred))\n",
    "\n",
    "# classification_report\n",
    "print(classification_report(test_labels, new_test_pred))"
   ]
  },
  {
   "cell_type": "code",
   "execution_count": null,
   "metadata": {},
   "outputs": [],
   "source": []
  }
 ],
 "metadata": {
  "kernelspec": {
   "display_name": "Python 3",
   "language": "python",
   "name": "python3"
  },
  "language_info": {
   "codemirror_mode": {
    "name": "ipython",
    "version": 3
   },
   "file_extension": ".py",
   "mimetype": "text/x-python",
   "name": "python",
   "nbconvert_exporter": "python",
   "pygments_lexer": "ipython3",
   "version": "3.7.6"
  }
 },
 "nbformat": 4,
 "nbformat_minor": 2
}
